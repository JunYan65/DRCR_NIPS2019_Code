{
 "cells": [
  {
   "cell_type": "code",
   "execution_count": 1,
   "metadata": {},
   "outputs": [],
   "source": [
    "import cvxpy as cp\n",
    "import numpy as np\n",
    "import time\n",
    "import pandas as pd"
   ]
  },
  {
   "cell_type": "code",
   "execution_count": 21,
   "metadata": {},
   "outputs": [],
   "source": [
    "data1 = pd.read_csv(\"/Users/yanjun/Dropbox/DRO_Conv_Regression(Zhengqing)/weather_data(backup)/Convex_regression_weatherDate_0727.csv\", header = None);\n",
    "data2 = pd.read_csv(\"/Users/yanjun/Dropbox/DRO_Conv_Regression(Zhengqing)/weather_data(backup)/Convex_regression_weatherDate2_0727.csv\", header = None);\n",
    "data3 = pd.read_csv(\"/Users/yanjun/Dropbox/DRO_Conv_Regression(Zhengqing)/weather_data(backup)/Convex_regression_weatherDate3_0727.csv\", header = None);\n",
    "data4 = pd.read_csv(\"/Users/yanjun/Dropbox/DRO_Conv_Regression(Zhengqing)/weather_data(backup)/Convex_regression_weatherDate4_0727.csv\", header = None);\n",
    "data22 = pd.read_csv(\"/Users/yanjun/Dropbox/DRO_Conv_Regression(Zhengqing)/weather_data(backup)/Convex_regression_weatherDate2_0728.csv\", header = None);\n",
    "data32 = pd.read_csv(\"/Users/yanjun/Dropbox/DRO_Conv_Regression(Zhengqing)/weather_data(backup)/Convex_regression_weatherDate3_0728.csv\", header = None);\n",
    "data42 = pd.read_csv(\"/Users/yanjun/Dropbox/DRO_Conv_Regression(Zhengqing)/weather_data(backup)/Convex_regression_weatherDate4_0728.csv\", header = None);\n",
    "\n",
    "\n",
    "\n",
    "\n",
    "\n",
    "\n",
    "\n"
   ]
  },
  {
   "cell_type": "code",
   "execution_count": 27,
   "metadata": {},
   "outputs": [
    {
     "name": "stderr",
     "output_type": "stream",
     "text": [
      "/Library/Frameworks/Python.framework/Versions/3.6/lib/python3.6/site-packages/ipykernel_launcher.py:4: SettingWithCopyWarning: \n",
      "A value is trying to be set on a copy of a slice from a DataFrame\n",
      "\n",
      "See the caveats in the documentation: http://pandas.pydata.org/pandas-docs/stable/indexing.html#indexing-view-versus-copy\n",
      "  after removing the cwd from sys.path.\n"
     ]
    }
   ],
   "source": [
    "data_p1 = data1.head(10)\n",
    "data_p3 = data3.head(10)\n",
    "data_p4 = data4.head(10)\n",
    "data_p4.iloc[9,:] = data42.iloc[0,:].values"
   ]
  },
  {
   "cell_type": "code",
   "execution_count": 31,
   "metadata": {},
   "outputs": [
    {
     "data": {
      "text/html": [
       "<div>\n",
       "<style scoped>\n",
       "    .dataframe tbody tr th:only-of-type {\n",
       "        vertical-align: middle;\n",
       "    }\n",
       "\n",
       "    .dataframe tbody tr th {\n",
       "        vertical-align: top;\n",
       "    }\n",
       "\n",
       "    .dataframe thead th {\n",
       "        text-align: right;\n",
       "    }\n",
       "</style>\n",
       "<table border=\"1\" class=\"dataframe\">\n",
       "  <thead>\n",
       "    <tr style=\"text-align: right;\">\n",
       "      <th></th>\n",
       "      <th>0</th>\n",
       "      <th>1</th>\n",
       "      <th>2</th>\n",
       "      <th>3</th>\n",
       "      <th>4</th>\n",
       "      <th>5</th>\n",
       "      <th>6</th>\n",
       "      <th>7</th>\n",
       "      <th>8</th>\n",
       "      <th>9</th>\n",
       "      <th>10</th>\n",
       "      <th>11</th>\n",
       "    </tr>\n",
       "  </thead>\n",
       "  <tbody>\n",
       "    <tr>\n",
       "      <th>0</th>\n",
       "      <td>0.088085</td>\n",
       "      <td>0.096052</td>\n",
       "      <td>0.265065</td>\n",
       "      <td>0.274661</td>\n",
       "      <td>0.089065</td>\n",
       "      <td>0.122506</td>\n",
       "      <td>0.220324</td>\n",
       "      <td>0.248854</td>\n",
       "      <td>0.078961</td>\n",
       "      <td>0.112176</td>\n",
       "      <td>0.239839</td>\n",
       "      <td>0.262477</td>\n",
       "    </tr>\n",
       "    <tr>\n",
       "      <th>1</th>\n",
       "      <td>0.090797</td>\n",
       "      <td>0.100615</td>\n",
       "      <td>0.265156</td>\n",
       "      <td>0.269261</td>\n",
       "      <td>0.092985</td>\n",
       "      <td>0.148746</td>\n",
       "      <td>0.237985</td>\n",
       "      <td>0.256384</td>\n",
       "      <td>0.085294</td>\n",
       "      <td>0.175086</td>\n",
       "      <td>0.248759</td>\n",
       "      <td>0.272503</td>\n",
       "    </tr>\n",
       "    <tr>\n",
       "      <th>2</th>\n",
       "      <td>0.096228</td>\n",
       "      <td>0.095075</td>\n",
       "      <td>0.280183</td>\n",
       "      <td>0.278612</td>\n",
       "      <td>0.114102</td>\n",
       "      <td>0.124809</td>\n",
       "      <td>0.242702</td>\n",
       "      <td>0.257499</td>\n",
       "      <td>0.089829</td>\n",
       "      <td>0.099606</td>\n",
       "      <td>0.264577</td>\n",
       "      <td>0.268425</td>\n",
       "    </tr>\n",
       "    <tr>\n",
       "      <th>3</th>\n",
       "      <td>0.099545</td>\n",
       "      <td>0.094668</td>\n",
       "      <td>0.284917</td>\n",
       "      <td>0.277087</td>\n",
       "      <td>0.109020</td>\n",
       "      <td>0.117180</td>\n",
       "      <td>0.236294</td>\n",
       "      <td>0.247337</td>\n",
       "      <td>0.089302</td>\n",
       "      <td>0.098622</td>\n",
       "      <td>0.256880</td>\n",
       "      <td>0.263087</td>\n",
       "    </tr>\n",
       "    <tr>\n",
       "      <th>4</th>\n",
       "      <td>0.091866</td>\n",
       "      <td>0.097639</td>\n",
       "      <td>0.264548</td>\n",
       "      <td>0.269067</td>\n",
       "      <td>0.101667</td>\n",
       "      <td>0.115471</td>\n",
       "      <td>0.235524</td>\n",
       "      <td>0.248893</td>\n",
       "      <td>0.087563</td>\n",
       "      <td>0.129499</td>\n",
       "      <td>0.251900</td>\n",
       "      <td>0.270438</td>\n",
       "    </tr>\n",
       "    <tr>\n",
       "      <th>5</th>\n",
       "      <td>0.096045</td>\n",
       "      <td>0.095471</td>\n",
       "      <td>0.273645</td>\n",
       "      <td>0.272182</td>\n",
       "      <td>0.099360</td>\n",
       "      <td>0.118759</td>\n",
       "      <td>0.224392</td>\n",
       "      <td>0.247172</td>\n",
       "      <td>0.085680</td>\n",
       "      <td>0.108087</td>\n",
       "      <td>0.245203</td>\n",
       "      <td>0.259550</td>\n",
       "    </tr>\n",
       "    <tr>\n",
       "      <th>6</th>\n",
       "      <td>0.091890</td>\n",
       "      <td>0.095743</td>\n",
       "      <td>0.273166</td>\n",
       "      <td>0.274985</td>\n",
       "      <td>0.083847</td>\n",
       "      <td>0.252685</td>\n",
       "      <td>0.228540</td>\n",
       "      <td>0.279503</td>\n",
       "      <td>0.077415</td>\n",
       "      <td>0.231226</td>\n",
       "      <td>0.239280</td>\n",
       "      <td>0.288597</td>\n",
       "    </tr>\n",
       "    <tr>\n",
       "      <th>7</th>\n",
       "      <td>0.092091</td>\n",
       "      <td>0.095873</td>\n",
       "      <td>0.271892</td>\n",
       "      <td>0.277237</td>\n",
       "      <td>0.100014</td>\n",
       "      <td>0.105857</td>\n",
       "      <td>0.236697</td>\n",
       "      <td>0.245487</td>\n",
       "      <td>0.086444</td>\n",
       "      <td>0.090857</td>\n",
       "      <td>0.255146</td>\n",
       "      <td>0.260636</td>\n",
       "    </tr>\n",
       "    <tr>\n",
       "      <th>8</th>\n",
       "      <td>0.097395</td>\n",
       "      <td>0.097724</td>\n",
       "      <td>0.279137</td>\n",
       "      <td>0.279034</td>\n",
       "      <td>0.091436</td>\n",
       "      <td>0.146880</td>\n",
       "      <td>0.242645</td>\n",
       "      <td>0.259988</td>\n",
       "      <td>0.084801</td>\n",
       "      <td>0.167330</td>\n",
       "      <td>0.250940</td>\n",
       "      <td>0.279744</td>\n",
       "    </tr>\n",
       "    <tr>\n",
       "      <th>9</th>\n",
       "      <td>0.094798</td>\n",
       "      <td>0.094851</td>\n",
       "      <td>0.275316</td>\n",
       "      <td>0.276186</td>\n",
       "      <td>0.103103</td>\n",
       "      <td>0.105075</td>\n",
       "      <td>0.233647</td>\n",
       "      <td>0.244791</td>\n",
       "      <td>0.088618</td>\n",
       "      <td>0.097514</td>\n",
       "      <td>0.256431</td>\n",
       "      <td>0.264449</td>\n",
       "    </tr>\n",
       "  </tbody>\n",
       "</table>\n",
       "</div>"
      ],
      "text/plain": [
       "         0         1         2         3         4         5         6   \\\n",
       "0  0.088085  0.096052  0.265065  0.274661  0.089065  0.122506  0.220324   \n",
       "1  0.090797  0.100615  0.265156  0.269261  0.092985  0.148746  0.237985   \n",
       "2  0.096228  0.095075  0.280183  0.278612  0.114102  0.124809  0.242702   \n",
       "3  0.099545  0.094668  0.284917  0.277087  0.109020  0.117180  0.236294   \n",
       "4  0.091866  0.097639  0.264548  0.269067  0.101667  0.115471  0.235524   \n",
       "5  0.096045  0.095471  0.273645  0.272182  0.099360  0.118759  0.224392   \n",
       "6  0.091890  0.095743  0.273166  0.274985  0.083847  0.252685  0.228540   \n",
       "7  0.092091  0.095873  0.271892  0.277237  0.100014  0.105857  0.236697   \n",
       "8  0.097395  0.097724  0.279137  0.279034  0.091436  0.146880  0.242645   \n",
       "9  0.094798  0.094851  0.275316  0.276186  0.103103  0.105075  0.233647   \n",
       "\n",
       "         7         8         9         10        11  \n",
       "0  0.248854  0.078961  0.112176  0.239839  0.262477  \n",
       "1  0.256384  0.085294  0.175086  0.248759  0.272503  \n",
       "2  0.257499  0.089829  0.099606  0.264577  0.268425  \n",
       "3  0.247337  0.089302  0.098622  0.256880  0.263087  \n",
       "4  0.248893  0.087563  0.129499  0.251900  0.270438  \n",
       "5  0.247172  0.085680  0.108087  0.245203  0.259550  \n",
       "6  0.279503  0.077415  0.231226  0.239280  0.288597  \n",
       "7  0.245487  0.086444  0.090857  0.255146  0.260636  \n",
       "8  0.259988  0.084801  0.167330  0.250940  0.279744  \n",
       "9  0.244791  0.088618  0.097514  0.256431  0.264449  "
      ]
     },
     "execution_count": 31,
     "metadata": {},
     "output_type": "execute_result"
    }
   ],
   "source": [
    "data_p1"
   ]
  },
  {
   "cell_type": "code",
   "execution_count": 33,
   "metadata": {},
   "outputs": [],
   "source": [
    "m1 = data_p1.mean()\n",
    "m3 = data_p3.mean()\n",
    "m4 = data_p4.mean()"
   ]
  },
  {
   "cell_type": "code",
   "execution_count": 47,
   "metadata": {},
   "outputs": [],
   "source": [
    "train_l2_loss1 = [m1[0], m1[4], m1[8]]\n",
    "test_l2_loss1 = [m1[1], m1[5], m1[9]]\n",
    "train_l1_loss1 = [m1[2], m1[6], m1[10]]\n",
    "test_l1_loss1 = [m1[3], m1[7], m1[11]]"
   ]
  },
  {
   "cell_type": "code",
   "execution_count": 48,
   "metadata": {},
   "outputs": [
    {
     "name": "stdout",
     "output_type": "stream",
     "text": [
      "[0.09387398161848598, 0.09845990552874366, 0.08539071925749256]\n",
      "[0.0963713134283937, 0.1357969476372769, 0.13100039786255674]\n"
     ]
    }
   ],
   "source": [
    "print(train_l2_loss1)\n",
    "print(test_l2_loss1)"
   ]
  },
  {
   "cell_type": "code",
   "execution_count": 49,
   "metadata": {},
   "outputs": [
    {
     "name": "stdout",
     "output_type": "stream",
     "text": [
      "[0.2733024073316481, 0.23387510741000872, 0.2508954392247852]\n",
      "[0.274831072128497, 0.25359075926962105, 0.268990712105163]\n"
     ]
    }
   ],
   "source": [
    "print(train_l1_loss1)\n",
    "print(test_l1_loss1)"
   ]
  },
  {
   "cell_type": "code",
   "execution_count": 50,
   "metadata": {},
   "outputs": [],
   "source": [
    "train_l2_loss3 = [m3[0], m3[4], m3[8]]\n",
    "test_l2_loss3 = [m3[1], m3[5], m3[9]]\n",
    "train_l1_loss3 = [m3[2], m3[6], m3[10]]\n",
    "test_l1_loss3 = [m3[3], m3[7], m3[11]]"
   ]
  },
  {
   "cell_type": "code",
   "execution_count": 51,
   "metadata": {},
   "outputs": [
    {
     "name": "stdout",
     "output_type": "stream",
     "text": [
      "[0.09363253754877564, 0.1015174966470261, 0.0865451324284469]\n",
      "[0.09545575907992901, 0.11805258929035971, 0.1043324919976966]\n"
     ]
    }
   ],
   "source": [
    "print(train_l2_loss3)\n",
    "print(test_l2_loss3)"
   ]
  },
  {
   "cell_type": "code",
   "execution_count": 52,
   "metadata": {},
   "outputs": [
    {
     "name": "stdout",
     "output_type": "stream",
     "text": [
      "[0.273250465144966, 0.23670977092838266, 0.25408567822067013]\n",
      "[0.274850650215992, 0.24652251639980943, 0.26248430692440267]\n"
     ]
    }
   ],
   "source": [
    "print(train_l1_loss3)\n",
    "print(test_l1_loss3)"
   ]
  },
  {
   "cell_type": "code",
   "execution_count": 53,
   "metadata": {},
   "outputs": [],
   "source": [
    "train_l2_loss4 = [m4[0], m4[4], m4[8]]\n",
    "test_l2_loss4 = [m4[1], m4[5], m4[9]]\n",
    "\n",
    "train_l1_loss4 = [m4[2], m4[6], m4[10]]\n",
    "test_l1_loss4 = [m4[3], m4[7], m4[11]]"
   ]
  },
  {
   "cell_type": "code",
   "execution_count": 54,
   "metadata": {},
   "outputs": [
    {
     "name": "stdout",
     "output_type": "stream",
     "text": [
      "[0.09291955416232708, 0.10208501388826077, 0.08673798460748545]\n",
      "[0.09528360403248995, 0.13844977240493134, 0.09962519896863571]\n"
     ]
    }
   ],
   "source": [
    "print(train_l2_loss4)\n",
    "print(test_l2_loss4)"
   ]
  },
  {
   "cell_type": "code",
   "execution_count": 55,
   "metadata": {},
   "outputs": [
    {
     "name": "stdout",
     "output_type": "stream",
     "text": [
      "[0.2721945432645678, 0.2367167060374074, 0.255005458174339]\n",
      "[0.2737710838037459, 0.2469578312072686, 0.26075481739945505]\n"
     ]
    }
   ],
   "source": [
    "print(train_l1_loss4)\n",
    "print(test_l1_loss4)"
   ]
  },
  {
   "cell_type": "code",
   "execution_count": null,
   "metadata": {},
   "outputs": [],
   "source": []
  }
 ],
 "metadata": {
  "kernelspec": {
   "display_name": "Python 3",
   "language": "python",
   "name": "python3"
  },
  "language_info": {
   "codemirror_mode": {
    "name": "ipython",
    "version": 3
   },
   "file_extension": ".py",
   "mimetype": "text/x-python",
   "name": "python",
   "nbconvert_exporter": "python",
   "pygments_lexer": "ipython3",
   "version": "3.6.1"
  }
 },
 "nbformat": 4,
 "nbformat_minor": 2
}
